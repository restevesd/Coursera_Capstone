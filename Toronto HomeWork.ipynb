{
    "nbformat_minor": 1, 
    "cells": [
        {
            "source": "from bs4 import BeautifulSoup\nimport pandas as pd\nimport urllib.request\n\npd.set_option('display.max_rows', 500)\npd.set_option('display.max_columns', 500)\npd.set_option('display.width', 1000)", 
            "cell_type": "code", 
            "execution_count": 1, 
            "outputs": [], 
            "metadata": {}
        }, 
        {
            "source": "url='https://en.wikipedia.org/wiki/List_of_postal_codes_of_Canada:_M'\n# El data frame es de 3 columnas : PostalCode, Borough, and Neighborhood\nsource = urllib.request.urlopen(url).read()", 
            "cell_type": "code", 
            "execution_count": 2, 
            "outputs": [], 
            "metadata": {}
        }, 
        {
            "source": "soup = BeautifulSoup(source, 'html.parser')", 
            "cell_type": "code", 
            "execution_count": 3, 
            "outputs": [], 
            "metadata": {}
        }, 
        {
            "source": "## Datos de la cabecera de la tabla ####\n\np = soup.find_all('th')\nparagraphs = []\nfor x in p:\n    paragraphs.append(str(x))\n\npostcode = paragraphs[0][4:12]\nborough  = paragraphs[1][4:11]\nvecinda  = paragraphs[2][4:17]\n", 
            "cell_type": "code", 
            "execution_count": 4, 
            "outputs": [], 
            "metadata": {}
        }, 
        {
            "source": "#### Datos de la tabla #####\n\ntable = soup.find('table')\ntable_rows = table.find_all('tr')\nl = []\n\nfor tr in table_rows:\n    td = tr.find_all('td')\n    row = [tr.text for tr in td]\n    l.append(row)\n\ndata = pd.DataFrame(l, columns=[postcode, borough, vecinda])\n\ndata= data[data.Borough != 'Not assigned']\ndata.dropna(inplace=True)\n\ndata = data[[postcode,borough,vecinda]]", 
            "cell_type": "code", 
            "execution_count": 5, 
            "outputs": [], 
            "metadata": {}
        }, 
        {
            "source": "# iterate over the dataframe row by row\nfor index_label, row_series in data.iterrows():\n   # For each row update the 'Bonus' value to it's double\n   data.at[index_label , 'Neighbourhood'] = row_series['Neighbourhood'].replace(\"\\n\", \"\")", 
            "cell_type": "code", 
            "execution_count": 6, 
            "outputs": [], 
            "metadata": {}
        }, 
        {
            "source": "data.loc[data['Neighbourhood']=='Not assigned', ['Neighbourhood']] = 'Queen\\'s Park'", 
            "cell_type": "code", 
            "execution_count": 7, 
            "outputs": [], 
            "metadata": {}
        }, 
        {
            "source": "data=data.groupby(\"Postcode\").agg(lambda x:','.join(set(x)))", 
            "cell_type": "code", 
            "execution_count": 8, 
            "outputs": [], 
            "metadata": {}
        }, 
        {
            "source": "data.loc[data['Neighbourhood']==\"Not assigned\",'Neighbourhood']=data.loc[data['Neighbourhood']==\"Not assigned\",'Borough']", 
            "cell_type": "code", 
            "execution_count": 16, 
            "outputs": [], 
            "metadata": {}
        }, 
        {
            "source": "", 
            "cell_type": "code", 
            "execution_count": null, 
            "outputs": [], 
            "metadata": {}
        }, 
        {
            "source": "data.shape", 
            "cell_type": "code", 
            "execution_count": 15, 
            "outputs": [
                {
                    "output_type": "execute_result", 
                    "metadata": {}, 
                    "data": {
                        "text/plain": "(103, 2)"
                    }, 
                    "execution_count": 15
                }
            ], 
            "metadata": {}
        }
    ], 
    "nbformat": 4, 
    "metadata": {
        "kernelspec": {
            "display_name": "Python 3.6", 
            "name": "python3", 
            "language": "python"
        }, 
        "language_info": {
            "mimetype": "text/x-python", 
            "nbconvert_exporter": "python", 
            "version": "3.6.8", 
            "name": "python", 
            "pygments_lexer": "ipython3", 
            "file_extension": ".py", 
            "codemirror_mode": {
                "version": 3, 
                "name": "ipython"
            }
        }
    }
}