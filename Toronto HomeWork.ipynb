{
    "nbformat_minor": 1, 
    "cells": [
        {
            "source": "from bs4 import BeautifulSoup\nimport pandas as pd\nimport urllib.request\n\npd.set_option('display.max_rows', 500)\npd.set_option('display.max_columns', 500)\npd.set_option('display.width', 1000)", 
            "cell_type": "code", 
            "execution_count": 1, 
            "outputs": [], 
            "metadata": {}
        }, 
        {
            "source": "url='https://en.wikipedia.org/wiki/List_of_postal_codes_of_Canada:_M'\n# El data frame es de 3 columnas : PostalCode, Borough, and Neighborhood\nsource = urllib.request.urlopen(url).read()", 
            "cell_type": "code", 
            "execution_count": 2, 
            "outputs": [], 
            "metadata": {}
        }, 
        {
            "source": "soup = BeautifulSoup(source, 'html.parser')", 
            "cell_type": "code", 
            "execution_count": 3, 
            "outputs": [], 
            "metadata": {}
        }, 
        {
            "source": "## Datos de la cabecera de la tabla ####\n\np = soup.find_all('th')\nparagraphs = []\nfor x in p:\n    paragraphs.append(str(x))\n\npostcode = paragraphs[0][4:12]\nborough  = paragraphs[1][4:11]\nvecinda  = paragraphs[2][4:17]\n", 
            "cell_type": "code", 
            "execution_count": 4, 
            "outputs": [], 
            "metadata": {}
        }, 
        {
            "source": "#### Datos de la tabla #####\n\ntable = soup.find('table')\ntable_rows = table.find_all('tr')\nl = []\n\nfor tr in table_rows:\n    td = tr.find_all('td')\n    row = [tr.text for tr in td]\n    l.append(row)\n\ndata = pd.DataFrame(l, columns=[postcode, borough, vecinda])\n\ndata= data[data.Borough != 'Not assigned']\ndata.dropna(inplace=True)\n\ndata = data[[postcode,borough,vecinda]]", 
            "cell_type": "code", 
            "execution_count": 5, 
            "outputs": [], 
            "metadata": {}
        }, 
        {
            "source": "# iterate over the dataframe row by row\nfor index_label, row_series in data.iterrows():\n   # For each row update the 'Bonus' value to it's double\n   data.at[index_label , 'Neighbourhood'] = row_series['Neighbourhood'].replace(\"\\n\", \"\")", 
            "cell_type": "code", 
            "execution_count": 6, 
            "outputs": [], 
            "metadata": {}
        }, 
        {
            "source": "data.loc[data['Neighbourhood']=='Not assigned', ['Neighbourhood']] = 'Queen\\'s Park'", 
            "cell_type": "code", 
            "execution_count": 7, 
            "outputs": [], 
            "metadata": {}
        }, 
        {
            "source": "data=data.groupby(\"Postcode\").agg(lambda x:','.join(set(x)))", 
            "cell_type": "code", 
            "execution_count": 8, 
            "outputs": [], 
            "metadata": {}
        }, 
        {
            "source": "data.loc[data['Neighbourhood']==\"Not assigned\",'Neighbourhood']=data.loc[data['Neighbourhood']==\"Not assigned\",'Borough']", 
            "cell_type": "code", 
            "execution_count": 16, 
            "outputs": [], 
            "metadata": {}
        }, 
        {
            "source": "data.shape", 
            "cell_type": "code", 
            "execution_count": 17, 
            "outputs": [
                {
                    "output_type": "execute_result", 
                    "metadata": {}, 
                    "data": {
                        "text/plain": "(103, 2)"
                    }, 
                    "execution_count": 17
                }
            ], 
            "metadata": {}
        }, 
        {
            "source": "print(data)", 
            "cell_type": "code", 
            "execution_count": 18, 
            "outputs": [
                {
                    "output_type": "stream", 
                    "name": "stdout", 
                    "text": "                   Borough                                      Neighbourhood\nPostcode                                                                     \nM1B            Scarborough                                      Malvern,Rouge\nM1C            Scarborough               Highland Creek,Port Union,Rouge Hill\nM1E            Scarborough                    Morningside,Guildwood,West Hill\nM1G            Scarborough                                             Woburn\nM1H            Scarborough                                          Cedarbrae\nM1J            Scarborough                                Scarborough Village\nM1K            Scarborough          East Birchmount Park,Kennedy Park,Ionview\nM1L            Scarborough                      Oakridge,Clairlea,Golden Mile\nM1M            Scarborough      Cliffcrest,Cliffside,Scarborough Village West\nM1N            Scarborough                         Cliffside West,Birch Cliff\nM1P            Scarborough  Dorset Park,Scarborough Town Centre,Wexford He...\nM1R            Scarborough                                   Wexford,Maryvale\nM1S            Scarborough                                          Agincourt\nM1T            Scarborough              Sullivan,Tam O'Shanter,Clarks Corners\nM1V            Scarborough  Steeles East,Milliken,Agincourt North,L'Amorea...\nM1W            Scarborough                                    L'Amoreaux West\nM1X            Scarborough                                        Upper Rouge\nM2H             North York                                  Hillcrest Village\nM2J             North York                         Fairview,Oriole,Henry Farm\nM2K             North York                                    Bayview Village\nM2L             North York                            York Mills,Silver Hills\nM2M             North York                             Willowdale,Newtonbrook\nM2N             North York                                   Willowdale South\nM2P             North York                                    York Mills West\nM2R             North York                                    Willowdale West\nM3A             North York                                          Parkwoods\nM3B             North York                                    Don Mills North\nM3C             North York                    Flemingdon Park,Don Mills South\nM3H             North York      Downsview North,Wilson Heights,Bathurst Manor\nM3J             North York                     Northwood Park,York University\nM3K             North York                         Downsview East,CFB Toronto\nM3L             North York                                     Downsview West\nM3M             North York                                  Downsview Central\nM3N             North York                                Downsview Northwest\nM4A             North York                                   Victoria Village\nM4B              East York                     Woodbine Gardens,Parkview Hill\nM4C              East York                                   Woodbine Heights\nM4E           East Toronto                                        The Beaches\nM4G              East York                                            Leaside\nM4H              East York                                   Thorncliffe Park\nM4J              East York                                       East Toronto\nM4K           East Toronto                        Riverdale,The Danforth West\nM4L           East Toronto                      India Bazaar,The Beaches West\nM4M           East Toronto                                    Studio District\nM4N        Central Toronto                                      Lawrence Park\nM4P        Central Toronto                                   Davisville North\nM4R        Central Toronto                                 North Toronto West\nM4S        Central Toronto                                         Davisville\nM4T        Central Toronto                         Moore Park,Summerhill East\nM4V        Central Toronto  Forest Hill SE,Deer Park,Summerhill West,Rathn...\nM4W       Downtown Toronto                                           Rosedale\nM4X       Downtown Toronto                         Cabbagetown,St. James Town\nM4Y       Downtown Toronto                               Church and Wellesley\nM5A       Downtown Toronto                           Regent Park,Harbourfront\nM5B       Downtown Toronto                            Ryerson,Garden District\nM5C       Downtown Toronto                                     St. James Town\nM5E       Downtown Toronto                                        Berczy Park\nM5G       Downtown Toronto                                 Central Bay Street\nM5H       Downtown Toronto                             Richmond,King,Adelaide\nM5J       Downtown Toronto    Union Station,Harbourfront East,Toronto Islands\nM5K       Downtown Toronto            Design Exchange,Toronto Dominion Centre\nM5L       Downtown Toronto                      Victoria Hotel,Commerce Court\nM5M             North York                   Bedford Park,Lawrence Manor East\nM5N        Central Toronto                                           Roselawn\nM5P        Central Toronto                 Forest Hill West,Forest Hill North\nM5R        Central Toronto                  Yorkville,The Annex,North Midtown\nM5S       Downtown Toronto                      University of Toronto,Harbord\nM5T       Downtown Toronto            Kensington Market,Chinatown,Grange Park\nM5V       Downtown Toronto  Bathurst Quay,Island airport,South Niagara,Har...\nM5W       Downtown Toronto                    Stn A PO Boxes 25 The Esplanade\nM5X       Downtown Toronto              First Canadian Place,Underground city\nM6A             North York                    Lawrence Heights,Lawrence Manor\nM6B             North York                                          Glencairn\nM6C                   York                                 Humewood-Cedarvale\nM6E                   York                                Caledonia-Fairbanks\nM6G       Downtown Toronto                                           Christie\nM6H           West Toronto                        Dovercourt Village,Dufferin\nM6J           West Toronto                            Trinity,Little Portugal\nM6K           West Toronto         Exhibition Place,Parkdale Village,Brockton\nM6L             North York                   Upwood Park,Downsview,North Park\nM6M                   York        Mount Dennis,Del Ray,Keelesdale,Silverthorn\nM6N                   York                       The Junction North,Runnymede\nM6P           West Toronto                       The Junction South,High Park\nM6R           West Toronto                              Roncesvalles,Parkdale\nM6S           West Toronto                                  Swansea,Runnymede\nM7A           Queen's Park                                       Queen's Park\nM7R            Mississauga              Canada Post Gateway Processing Centre\nM7Y           East Toronto  Business Reply Mail Processing Centre 969 Eastern\nM8V              Etobicoke         New Toronto,Humber Bay Shores,Mimico South\nM8W              Etobicoke                              Long Branch,Alderwood\nM8X              Etobicoke        Montgomery Road,The Kingsway,Old Mill North\nM8Y              Etobicoke  Humber Bay,Kingsway Park South East,Old Mill S...\nM8Z              Etobicoke  Kingsway Park South West,The Queensway West,Mi...\nM9A              Etobicoke                                   Islington Avenue\nM9B              Etobicoke  Cloverdale,Princess Gardens,Islington,Martin G...\nM9C              Etobicoke  Old Burnhamthorpe,Bloordale Gardens,Eringate,M...\nM9L             North York                                      Humber Summit\nM9M             North York                                    Emery,Humberlea\nM9N                   York                                             Weston\nM9P              Etobicoke                                          Westmount\nM9R              Etobicoke  Kingsview Village,St. Phillips,Richview Garden...\nM9V              Etobicoke  Albion Gardens,South Steeles,Jamestown,Silvers...\nM9W              Etobicoke                                          Northwest\n"
                }
            ], 
            "metadata": {}
        }
    ], 
    "nbformat": 4, 
    "metadata": {
        "kernelspec": {
            "display_name": "Python 3.6", 
            "name": "python3", 
            "language": "python"
        }, 
        "language_info": {
            "mimetype": "text/x-python", 
            "nbconvert_exporter": "python", 
            "version": "3.6.8", 
            "name": "python", 
            "pygments_lexer": "ipython3", 
            "file_extension": ".py", 
            "codemirror_mode": {
                "version": 3, 
                "name": "ipython"
            }
        }
    }
}